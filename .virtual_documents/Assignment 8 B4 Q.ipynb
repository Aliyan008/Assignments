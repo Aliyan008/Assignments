


def add_numbers(a,b):
    num = a + b
    print(num)

add_numbers(44,13)





def count_vowels(text):
    vowels = "aeiouAEIOU"
    count = 0 

    for char in text:
        if char in vowels:
            count += 1
    return count

word = input("Enter a word:")
print (f"The word is: {word}")
print (f"Output: {count_vowels(word)}")     





def currency_converter(amount, exchange_rate = 280):
    conversion = amount*exchange_rate
    return f"{amount} USD is equivalent to {conversion} PKR"

usd_amount = float(input("Enter amount in USD: "))
print(currency_converter(usd_amount))





def display_student_info(name, age, grade, school):
    print ("Name: ", name)
    print ("Age: ", age)
    print ("Grade: ", grade)
    print ("School: ", school)

display_student_info(
    name = "ahmed",
    age = 24,
    grade = 12,
    school = "The Educators"
)





def calculate_price(price, quantity):
    total = price*quantity
    return total

item_price = float(input("Enter the price: "))
item_quantity = int(input("Enter quantity: "))

print (f"Total Price: {calculate_price(item_price, item_quantity)}")





def display_prices(product, **prices):
    print("Product:", product)
    for store, price in prices.items():
        print(f"{store}: ${price}")

display_prices(
    "Laptop",
    Amazon=800,
    eBay=750,
    Walmart=780
)





def find_max(*num):
    if not num:
        return None
    return max(num)

print (f"The maximum number is: {find_max(41,13,21,62,71,55,44,31)}")





def calculate_rectangle(length, width):
    def calculate_area():
        return length * width
    
    def calculate_perimeter():
        return 2 * (length + width)
    
    area = calculate_area()
    perimeter = calculate_perimeter()
    return area, perimeter

l = int(input("Enter length: "))
w = int(input("Enter width: "))

area, perimeter = calculate_rectangle(l, w)

print("Area:", area)
print("Perimeter:", perimeter)





def taxi_fare(distance, rate=100):
    return distance * rate

print("Taxi fare for 10 km =", taxi_fare(10), "PKR (using default parameter)")
print("Taxi fare for 15 km =", taxi_fare(15, 90), "PKR (custom rate)")





def shopping_bill(price, quantity, discount=0):
    def calculate_total():
        return price * quantity
    
    def apply_discount(total):
        final = total - discount
        if final < 0:
            return 0
        return final
    
    total = calculate_total()
    return apply_discount(total)

print("Final Bill =", shopping_bill(450, 4), "PKR (no discount)")
print("Final Bill =", shopping_bill(450, 4, 140), "PKR (with discount)")
