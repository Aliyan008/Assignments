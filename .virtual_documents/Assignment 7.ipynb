


num = 1

while num <= 20:
    if num % 2 == 0:
        num += 1
        continue
    print (num, end = " ")
    num += 1





while True:
    num = int(input("Enter a number (negative to stop): "))

    if num < 0:
        print("Negative number entered. Loop stopped!")
        break

    print("You entered:", num)





while True:
    guess = input("Guess the word: ")

    if guess == 'python':
        print ("🎉 You guessed it!")
        break





orders = [ 
    {"order_id": 1, "customer": "Ali", "items": [120, 80, 50]}, 
    {"order_id": 2, "customer": "Sara", "items": [200, 150]}, 
    {"order_id": 3, "customer": "Raheel", "items": [90, 60, 40, 30]}, 
    {"order_id": 4, "customer": "Naveed", "items": [300]}, 
]

order_index = 0 

while order_index < len(orders):
    order = orders[order_index]
    print(f"Order ID: {order['order_id']}  Customer: {order['customer']}")

    item_index = 0
    while item_index < len(order['items']):
        print(f"Item Price: {order['items'][item_index]}")
        item_index += 1

    order_index += 1
    print()





orders = [ 
    {"order_id": 1, "customer": "Ali", "items": [120, 80, 50]}, 
    {"order_id": 2, "customer": "Sara", "items": [200, 150]}, 
    {"order_id": 3, "customer": "Raheel", "items": [90, 60, 40, 30]}, 
    {"order_id": 4, "customer": "Naveed", "items": [300]}, 
]

order_index = 0 

while order_index < len(orders):
    order = orders[order_index]
    total_amount = 0

    item_index = 0
    while item_index < len(order['items']):
        total_amount += order['items'][item_index]
        item_index += 1

    print(f"{order['customer']} spent total: {total_amount}")
    print()
    order_index += 1





orders = [ 
    {"order_id": 1, "customer": "Ali", "items": [120, 80, 50]}, 
    {"order_id": 2, "customer": "Sara", "items": [200, 150]}, 
    {"order_id": 3, "customer": "Raheel", "items": [90, 60, 40, 30]}, 
    {"order_id": 4, "customer": "Naveed", "items": [300]}, 
]

order_index = 0

while order_index < len(orders):
    order = orders[order_index]

    max_price = order['items'][0]

    item_index = 1
    while item_index < len(order['items']):
        if order['items'][item_index] > max_price:
            max_price = order['items'][item_index] 
        item_index += 1
 
    print(f"Most expensive item in Order {order['order_id']} = {max_price}")
    
    order_index += 1





multiples = [num for num in range(1,51) if num % 5 == 0 and num % 10 == 0]

print("Multiples of 5 and 10 from 1 to 50: ", multiples)





employees = [ 
    {"emp_id": 1, "name": "Ali", "dept": "Sales", "salary": 50000, "experience": 2}, 
    {"emp_id": 2, "name": "Sara", "dept": "IT", "salary": 65000, "experience": 5}, 
    {"emp_id": 3, "name": "Raheel", "dept": "HR", "salary": 45000, "experience": 1}, 
    {"emp_id": 4, "name": "Naveed", "dept": "Finance", "salary": 70000, "experience": 7}, 
    {"emp_id": 5, "name": "Ayesha", "dept": "IT", "salary": 72000, "experience": 6}, 
    {"emp_id": 6, "name": "Talha", "dept": "Sales", "salary": 55000, "experience": 3}, 
    {"emp_id": 7, "name": "Sana", "dept": "Finance", "salary": 80000, "experience": 8}, 
    {"emp_id": 8, "name": "Hina", "dept": "HR", "salary": 48000, "experience": 2}, 
]

emp_list = [emp['name'] for emp in employees if emp['salary'] > 60000 and emp['experience'] > 5]

print("Expected Output:",emp_list)





non_hr_emp = [employee['name'] for employee in employees if employee['dept'] != 'HR']

print("Expected Output:", non_hr_emp)





useful_emp = [emp['name'] for emp in employees if emp['dept'] != 'Sales' or emp['experience'] > 5]

print("Expected Output:", useful_emp)
