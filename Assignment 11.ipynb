{
 "cells": [
  {
   "cell_type": "code",
   "execution_count": 1,
   "id": "6e1859d5-14ca-42f4-a40e-56e3645e67d9",
   "metadata": {},
   "outputs": [],
   "source": [
    "import csv"
   ]
  },
  {
   "cell_type": "code",
   "execution_count": 5,
   "id": "6545f735-daae-4369-8ebc-682f940774a0",
   "metadata": {},
   "outputs": [],
   "source": [
    "with open('student data.csv') as f:\n",
    "    r = csv.reader(f)\n",
    "    data = list(r)\n",
    "\n",
    "perc_col = data[0].index('Percentage')\n",
    "data[0].append('Grade')\n",
    "\n",
    "for i in range(1, len(data)):\n",
    "    p = float(data[i][perc_col])\n",
    "    if p >= 80:\n",
    "        g = 'A'\n",
    "    elif p >= 70:\n",
    "        g = 'B'\n",
    "    elif p >= 60:\n",
    "        g = 'C'\n",
    "    elif p >= 50:\n",
    "        g = 'D'\n",
    "    else:\n",
    "        g = 'F'\n",
    "    data[i].append(g)\n",
    "\n",
    "with open('student_data_with_grades.csv', 'w', newline='') as f:\n",
    "    csv.writer(f).writerows(data)"
   ]
  }
 ],
 "metadata": {
  "kernelspec": {
   "display_name": "Python 3 (ipykernel)",
   "language": "python",
   "name": "python3"
  },
  "language_info": {
   "codemirror_mode": {
    "name": "ipython",
    "version": 3
   },
   "file_extension": ".py",
   "mimetype": "text/x-python",
   "name": "python",
   "nbconvert_exporter": "python",
   "pygments_lexer": "ipython3",
   "version": "3.13.5"
  }
 },
 "nbformat": 4,
 "nbformat_minor": 5
}
