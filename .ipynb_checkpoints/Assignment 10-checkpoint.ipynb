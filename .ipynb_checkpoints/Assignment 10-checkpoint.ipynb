{
 "cells": [
  {
   "cell_type": "markdown",
   "id": "f9948c19-2ef0-4e33-a4ef-60f600110849",
   "metadata": {},
   "source": [
    "Write a Python program to calculate Speed, Distance, or Time based on user input.\n",
    "\n",
    "### Program Title:\n",
    "\n",
    "Speed, Distance, and Time Calculator\n",
    "\n",
    "### Program Objective:\n",
    "\n",
    "To develop a program that calculates Speed, Distance, or Time based on the user’s choice and input values, using the standard motion formulas.\n",
    "\n",
    "### Introduction:\n",
    "\n",
    "This program helps users calculate one of the three motion parameters — Speed, Distance, or Time — when the other two are known.\n",
    "\n",
    "The formulas used are:\n",
    "\n",
    "- Speed = Distance / Time\n",
    "\n",
    "- Distance = Speed × Time\n",
    "\n",
    "- Time = Distance / Speed\n",
    "\n",
    "The program provides a menu-driven system where the user can choose what to calculate. It also includes error handling for invalid inputs, negative values, and division by zero.\n",
    "\n",
    "#### Program Logic:\n",
    "\n",
    "Start the Program\n",
    "\n",
    "Display Menu Options:\n",
    "\n",
    "1. Calculate Speed\n",
    "2. Calculate Distance\n",
    "3. Calculate Time\n",
    "4. Exit\n",
    "\n",
    "\n",
    "Ask the user to choose an option (1–4).\n",
    "\n",
    "Based on the user’s choice:\n",
    "\n",
    "If choice = 1 (Speed):\n",
    "\n",
    "Input: Distance, Time\n",
    "\n",
    "Check if inputs are positive and Time ≠ 0\n",
    "\n",
    "Formula: Speed = Distance / Time\n",
    "\n",
    "Display Speed\n",
    "\n",
    "If choice = 2 (Distance):\n",
    "\n",
    "Input: Speed, Time\n",
    "\n",
    "Check if inputs are positive\n",
    "\n",
    "Formula: Distance = Speed × Time\n",
    "\n",
    "Display Distance\n",
    "\n",
    "If choice = 3 (Time):\n",
    "\n",
    "Input: Distance, Speed\n",
    "\n",
    "Check if inputs are positive and Speed ≠ 0\n",
    "\n",
    "Formula: Time = Distance / Speed\n",
    "\n",
    "Display Time\n",
    "\n",
    "If choice = 4 (Exit):\n",
    "\n",
    "Display a goodbye message\n",
    "\n",
    "Stop the program\n",
    "\n",
    "If the user enters an invalid choice:\n",
    "\n",
    "Display an error message\n",
    "\n",
    "Show the menu again\n",
    "\n",
    "Repeat the process until the user selects \"Exit\"."
   ]
  },
  {
   "cell_type": "code",
   "execution_count": 4,
   "id": "1f2614c6-1ced-4ee1-a503-724e5f9579ea",
   "metadata": {},
   "outputs": [],
   "source": [
    "def calculate_speed():\n",
    "    distance = float(input(\"Enter distance: (in meters) \"))\n",
    "    time = float(input(\"Enter time: (in seconds) \"))\n",
    "    if distance <= 0 or time <= 0:\n",
    "        print(\"Values must be positive and time cannot be zero.\")\n",
    "    else:\n",
    "        speed = distance / time\n",
    "        print(\"Speed(m/s) =\", speed)\n",
    "\n",
    "def calculate_distance():\n",
    "    speed = float(input(\"Enter speed: (in m/s) \"))\n",
    "    time = float(input(\"Enter time: (in seconds) \"))\n",
    "    if speed <= 0 or time <= 0:\n",
    "        print(\"Values must be positive.\")\n",
    "    else:\n",
    "        distance = speed * time\n",
    "        print(\"Distance(meters) =\", distance)\n",
    "\n",
    "def calculate_time():\n",
    "    distance = float(input(\"Enter distance: (in meters) \"))\n",
    "    speed = float(input(\"Enter speed: (in m/s) \"))\n",
    "    if distance <= 0 or speed <= 0:\n",
    "        print(\"Values must be positive and speed cannot be zero.\")\n",
    "    else:\n",
    "        time = distance / speed\n",
    "        print(\"Time(seconds) =\", time)"
   ]
  },
  {
   "cell_type": "code",
   "execution_count": 5,
   "id": "56926dd4-f019-4192-a5eb-65fea2ef21cb",
   "metadata": {},
   "outputs": [
    {
     "name": "stdout",
     "output_type": "stream",
     "text": [
      "\n",
      "Speed, Distance, and Time Calculator\n",
      "1. Calculate Speed\n",
      "2. Calculate Distance\n",
      "3. Calculate Time\n",
      "4. Exit\n"
     ]
    },
    {
     "name": "stdin",
     "output_type": "stream",
     "text": [
      "Enter your choice (1-4):  1\n",
      "Enter distance: (in meters)  10\n",
      "Enter time: (in seconds)  7\n"
     ]
    },
    {
     "name": "stdout",
     "output_type": "stream",
     "text": [
      "Speed(m/s) = 1.4285714285714286\n",
      "\n",
      "Speed, Distance, and Time Calculator\n",
      "1. Calculate Speed\n",
      "2. Calculate Distance\n",
      "3. Calculate Time\n",
      "4. Exit\n"
     ]
    },
    {
     "name": "stdin",
     "output_type": "stream",
     "text": [
      "Enter your choice (1-4):  2\n",
      "Enter speed: (in m/s)  20\n",
      "Enter time: (in seconds)  10\n"
     ]
    },
    {
     "name": "stdout",
     "output_type": "stream",
     "text": [
      "Distance(meters) = 200.0\n",
      "\n",
      "Speed, Distance, and Time Calculator\n",
      "1. Calculate Speed\n",
      "2. Calculate Distance\n",
      "3. Calculate Time\n",
      "4. Exit\n"
     ]
    },
    {
     "name": "stdin",
     "output_type": "stream",
     "text": [
      "Enter your choice (1-4):  3\n",
      "Enter distance: (in meters)  10\n",
      "Enter speed: (in m/s)  20\n"
     ]
    },
    {
     "name": "stdout",
     "output_type": "stream",
     "text": [
      "Time(seconds) = 0.5\n",
      "\n",
      "Speed, Distance, and Time Calculator\n",
      "1. Calculate Speed\n",
      "2. Calculate Distance\n",
      "3. Calculate Time\n",
      "4. Exit\n"
     ]
    },
    {
     "name": "stdin",
     "output_type": "stream",
     "text": [
      "Enter your choice (1-4):  4\n"
     ]
    },
    {
     "name": "stdout",
     "output_type": "stream",
     "text": [
      "Goodbye!\n"
     ]
    }
   ],
   "source": [
    "while True:\n",
    "    print(\"\\nSpeed, Distance, and Time Calculator\")\n",
    "    print(\"1. Calculate Speed\")\n",
    "    print(\"2. Calculate Distance\")\n",
    "    print(\"3. Calculate Time\")\n",
    "    print(\"4. Exit\")\n",
    "\n",
    "    choice = input(\"Enter your choice (1-4): \")\n",
    "\n",
    "    if choice == '1':\n",
    "        calculate_speed()\n",
    "    elif choice == '2':\n",
    "        calculate_distance()\n",
    "    elif choice == '3':\n",
    "        calculate_time()\n",
    "    elif choice == '4':\n",
    "        print(\"Goodbye!\")\n",
    "        break\n",
    "    else:\n",
    "        print(\"Invalid choice. Please try again.\")"
   ]
  },
  {
   "cell_type": "code",
   "execution_count": null,
   "id": "70413bcb-cb2d-4e84-90ee-3fe4d649e09d",
   "metadata": {},
   "outputs": [],
   "source": []
  }
 ],
 "metadata": {
  "kernelspec": {
   "display_name": "Python 3 (ipykernel)",
   "language": "python",
   "name": "python3"
  },
  "language_info": {
   "codemirror_mode": {
    "name": "ipython",
    "version": 3
   },
   "file_extension": ".py",
   "mimetype": "text/x-python",
   "name": "python",
   "nbconvert_exporter": "python",
   "pygments_lexer": "ipython3",
   "version": "3.13.5"
  }
 },
 "nbformat": 4,
 "nbformat_minor": 5
}
